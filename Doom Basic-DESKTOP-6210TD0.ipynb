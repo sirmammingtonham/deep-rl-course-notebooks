{
 "cells": [
  {
   "cell_type": "code",
   "execution_count": 119,
   "metadata": {},
   "outputs": [],
   "source": [
    "import warnings\n",
    "import random\n",
    "import time\n",
    "\n",
    "from vizdoom import *\n",
    "\n",
    "import numpy as np\n",
    "from skimage import transform, util, color\n",
    "from collections import deque\n",
    "import matplotlib.pyplot as plt"
   ]
  },
  {
   "cell_type": "code",
   "execution_count": null,
   "metadata": {},
   "outputs": [],
   "source": [
    "import torch\n",
    "import torch.nn as nn\n",
    "import torch.nn.functional as F"
   ]
  },
  {
   "cell_type": "code",
   "execution_count": 94,
   "metadata": {},
   "outputs": [],
   "source": [
    "%matplotlib inline\n",
    "warnings.filterwarnings('ignore')"
   ]
  },
  {
   "cell_type": "code",
   "execution_count": null,
   "metadata": {},
   "outputs": [],
   "source": [
    "que_length = 100\n",
    "total_episodes = 50000        # Total episode\n",
    "learning_rate = 0.7           # Learning rate\n",
    "max_steps = 999                # Max steps per episode\n",
    "gamma = 0.618                 # Discounting rate\n",
    "\n",
    "# Exploration parameters\n",
    "epsilon = 1.0                 # Exploration rate\n",
    "max_epsilon = 1.0             # Exploration probability at start\n",
    "min_epsilon = 0.01            # Minimum exploration probability \n",
    "decay_rate = 0.01             # Exponential decay rate for exploration prob"
   ]
  },
  {
   "cell_type": "code",
   "execution_count": 89,
   "metadata": {},
   "outputs": [],
   "source": [
    "def createEnvironment():\n",
    "    game = DoomGame()\n",
    "    game.load_config(\"scenarios/basic.cfg\")\n",
    "    game.init()\n",
    "    \n",
    "    left = [1, 0, 0]\n",
    "    right = [0, 1, 0]\n",
    "    shoot = [0, 0, 1]\n",
    "    actions = [left, right, shoot]\n",
    "    \n",
    "    return game, actions"
   ]
  },
  {
   "cell_type": "code",
   "execution_count": 106,
   "metadata": {},
   "outputs": [],
   "source": [
    "def processImg(img):\n",
    "    img = color.rgb2gray(img)\n",
    "    img = img[60:, :]\n",
    "    img = img / 255\n",
    "    img = transform.resize(img, (200, 200))\n",
    "    return img"
   ]
  },
  {
   "cell_type": "code",
   "execution_count": null,
   "metadata": {},
   "outputs": [],
   "source": [
    "stack_size = 4\n",
    "stacked_frames = deque([np.zeros((200,200), dtype=np.int) for i in range(stack_size)], maxlen=4)\n",
    "def stackFrames(stacked_frames, stateim, is_new_episode):\n",
    "    frame = processImg(stateim)\n",
    "    if is_new_episode:\n",
    "        stacked_frames = deque([np.zeros((200,200), dtype=np.int) for i in range(stack_size)], maxlen=4)\n",
    "        for _ in range(stack_size):\n",
    "            stacked_frames.append(frame)\n",
    "        stacked_state = np.stack(stacked_frames, axis=2)\n",
    "    else:\n",
    "        stacked_frames.append(frame)\n",
    "        stacked_state = np.stack(stacked_frames, axis=2)\n",
    "        \n",
    "    return stacked_state, stacked_frames"
   ]
  },
  {
   "cell_type": "code",
   "execution_count": null,
   "metadata": {},
   "outputs": [],
   "source": [
    "mem = deque([], maxlen=que_length)\n",
    "def experienceReplay():"
   ]
  },
  {
   "cell_type": "code",
   "execution_count": null,
   "metadata": {},
   "outputs": [],
   "source": [
    "class DQN(nn.Module):\n",
    "    def __init__(self, img_size):\n",
    "        self.img_size = img_size\n",
    "        super().__init__()\n",
    "        \n",
    "        self.conv1 = nn.Conv2d(1, 32, kernel_size=8, stride=2, padding=1)\n",
    "        self.bn1 = nn.BatchNorm2d(32)\n",
    "        self.conv2 = nn.Conv2d(32, 64, kernel_size=4, stride=2, padding=1)\n",
    "        self.bn2 = nn.BatchNorm2d(64)\n",
    "        self.conv3 = nn.Conv2d(64, 128, kernel_size=4, stride=2, padding=1)\n",
    "        self.bn3 = nn.BatchNorm2d(128)\n",
    "        \n",
    "        self.fc1 = nn.Linear(128, 512)\n",
    "        self.fc2 = nn.Linear(512, 3)\n",
    "        \n",
    "    def forward(self, x):\n",
    "        x = F.elu(self.bn1(self.conv1(x)))\n",
    "        x = F.elu(self.bn2(self.conv2(x)))\n",
    "        x = F.elu(self.bn3(self.conv3(x)))\n",
    "        \n",
    "        x = x.view(-1, 128)\n",
    "        x = self.fc1(x)\n",
    "        x = F.elu(self.fc2(x))\n",
    "        return x"
   ]
  },
  {
   "cell_type": "code",
   "execution_count": null,
   "metadata": {},
   "outputs": [],
   "source": [
    "def run():\n",
    "    game, actions = createEnvironment()\n",
    "    mem = deque([], maxlen=que_length)\n",
    "    for episode in range(total_episodes):\n",
    "        state = game.get_state()\n",
    "        \n",
    "        for step in range(max_steps):\n",
    "            state_im = rescaleAndGray(state.screen_buffer)\n",
    "            \n",
    "            exp_exp_tradeoff = random.uniform(0,1)\n",
    "            if exp_exp_tradeoff > epsilon:\n",
    "                action = nnet.predict(state_im)\n",
    "            else:\n",
    "                action = random.choice(actions)\n",
    "                \n",
    "            reward = game.make_action(action)\n",
    "            new_s = game.get_state()\n",
    "            new_im = rescaleAndGray(new_s.screen_buffer)\n",
    "            \n",
    "            mem.append((state_im, action, reward, new_im))\n",
    "            state = new_s\n",
    "            \n",
    "            Q_target = mem[mem.index(state_im)][2] + gamma*\n",
    "        \n",
    "        episode += 1\n",
    "        epsilon = min_epsilon + (max_epsilon - min_epsilon)*np.exp(-decay_rate*episode)"
   ]
  },
  {
   "cell_type": "code",
   "execution_count": 32,
   "metadata": {},
   "outputs": [],
   "source": [
    "state = game.get_state()\n",
    "\n",
    "img = state.screen_buffer\n",
    "\n",
    "img.shape\n",
    "\n",
    "img = np.moveaxis(img, 0, 2)\n",
    "\n",
    "img.shape\n",
    "\n",
    "plt.imshow(img)\n",
    "plt.show()"
   ]
  }
 ],
 "metadata": {
  "kernelspec": {
   "display_name": "Python 3",
   "language": "python",
   "name": "python3"
  },
  "language_info": {
   "codemirror_mode": {
    "name": "ipython",
    "version": 3
   },
   "file_extension": ".py",
   "mimetype": "text/x-python",
   "name": "python",
   "nbconvert_exporter": "python",
   "pygments_lexer": "ipython3",
   "version": "3.6.5"
  }
 },
 "nbformat": 4,
 "nbformat_minor": 2
}
